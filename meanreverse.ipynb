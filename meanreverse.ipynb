{
 "cells": [
  {
   "cell_type": "code",
   "execution_count": 1,
   "id": "da6fbc26-bda9-439b-a09a-55dc8471f54d",
   "metadata": {},
   "outputs": [],
   "source": [
    "import bt\n",
    "import talib\n",
    "import pandas as pd"
   ]
  },
  {
   "cell_type": "code",
   "execution_count": 2,
   "id": "c7f6b44b-b957-4a21-a9bc-e2d930e6def7",
   "metadata": {},
   "outputs": [
    {
     "name": "stderr",
     "output_type": "stream",
     "text": [
      "[*********************100%%**********************]  1 of 1 completed\n"
     ]
    }
   ],
   "source": [
    "price_data=bt.get('tsla',start='2023-01-22',end='2024-04-29')"
   ]
  },
  {
   "cell_type": "code",
   "execution_count": 3,
   "id": "d4c4053d-3650-43f7-bce0-a8a4c6a1f76e",
   "metadata": {},
   "outputs": [
    {
     "data": {
      "text/html": [
       "<div>\n",
       "<style scoped>\n",
       "    .dataframe tbody tr th:only-of-type {\n",
       "        vertical-align: middle;\n",
       "    }\n",
       "\n",
       "    .dataframe tbody tr th {\n",
       "        vertical-align: top;\n",
       "    }\n",
       "\n",
       "    .dataframe thead th {\n",
       "        text-align: right;\n",
       "    }\n",
       "</style>\n",
       "<table border=\"1\" class=\"dataframe\">\n",
       "  <thead>\n",
       "    <tr style=\"text-align: right;\">\n",
       "      <th></th>\n",
       "      <th>tsla</th>\n",
       "    </tr>\n",
       "    <tr>\n",
       "      <th>Date</th>\n",
       "      <th></th>\n",
       "    </tr>\n",
       "  </thead>\n",
       "  <tbody>\n",
       "    <tr>\n",
       "      <th>2023-01-23</th>\n",
       "      <td>143.750000</td>\n",
       "    </tr>\n",
       "    <tr>\n",
       "      <th>2023-01-24</th>\n",
       "      <td>143.889999</td>\n",
       "    </tr>\n",
       "    <tr>\n",
       "      <th>2023-01-25</th>\n",
       "      <td>144.429993</td>\n",
       "    </tr>\n",
       "    <tr>\n",
       "      <th>2023-01-26</th>\n",
       "      <td>160.270004</td>\n",
       "    </tr>\n",
       "    <tr>\n",
       "      <th>2023-01-27</th>\n",
       "      <td>177.899994</td>\n",
       "    </tr>\n",
       "    <tr>\n",
       "      <th>...</th>\n",
       "      <td>...</td>\n",
       "    </tr>\n",
       "    <tr>\n",
       "      <th>2024-04-22</th>\n",
       "      <td>142.050003</td>\n",
       "    </tr>\n",
       "    <tr>\n",
       "      <th>2024-04-23</th>\n",
       "      <td>144.679993</td>\n",
       "    </tr>\n",
       "    <tr>\n",
       "      <th>2024-04-24</th>\n",
       "      <td>162.130005</td>\n",
       "    </tr>\n",
       "    <tr>\n",
       "      <th>2024-04-25</th>\n",
       "      <td>170.179993</td>\n",
       "    </tr>\n",
       "    <tr>\n",
       "      <th>2024-04-26</th>\n",
       "      <td>168.289993</td>\n",
       "    </tr>\n",
       "  </tbody>\n",
       "</table>\n",
       "<p>318 rows × 1 columns</p>\n",
       "</div>"
      ],
      "text/plain": [
       "                  tsla\n",
       "Date                  \n",
       "2023-01-23  143.750000\n",
       "2023-01-24  143.889999\n",
       "2023-01-25  144.429993\n",
       "2023-01-26  160.270004\n",
       "2023-01-27  177.899994\n",
       "...                ...\n",
       "2024-04-22  142.050003\n",
       "2024-04-23  144.679993\n",
       "2024-04-24  162.130005\n",
       "2024-04-25  170.179993\n",
       "2024-04-26  168.289993\n",
       "\n",
       "[318 rows x 1 columns]"
      ]
     },
     "execution_count": 3,
     "metadata": {},
     "output_type": "execute_result"
    }
   ],
   "source": [
    "price_data"
   ]
  },
  {
   "cell_type": "code",
   "execution_count": 4,
   "id": "f6d3db8b-4f89-469b-824d-08c66c6878bc",
   "metadata": {},
   "outputs": [
    {
     "ename": "NameError",
     "evalue": "name 'stock_rsi' is not defined",
     "output_type": "error",
     "traceback": [
      "\u001b[1;31m---------------------------------------------------------------------------\u001b[0m",
      "\u001b[1;31mNameError\u001b[0m                                 Traceback (most recent call last)",
      "Cell \u001b[1;32mIn[4], line 1\u001b[0m\n\u001b[1;32m----> 1\u001b[0m stock_rsi\u001b[38;5;241m.\u001b[39mdtypes\n",
      "\u001b[1;31mNameError\u001b[0m: name 'stock_rsi' is not defined"
     ]
    }
   ],
   "source": []
  },
  {
   "cell_type": "code",
   "execution_count": 5,
   "id": "17cd0a2e-c508-4522-b6f9-3534abac7f11",
   "metadata": {},
   "outputs": [],
   "source": [
    "stock_rsi=talib.RSI(price_data['tsla']).to_frame()"
   ]
  },
  {
   "cell_type": "code",
   "execution_count": 6,
   "id": "df67757c-2d36-445d-b45a-d0dc1d4ed4c3",
   "metadata": {},
   "outputs": [],
   "source": [
    "#create same dataframe structure as RSI\n",
    "signal=stock_rsi.copy()\n",
    "signal[stock_rsi.isnull()]=0"
   ]
  },
  {
   "cell_type": "code",
   "execution_count": 7,
   "id": "0eed1981-50b7-4ffd-8565-821b8d0ef523",
   "metadata": {},
   "outputs": [],
   "source": [
    "#construct the signal\n",
    "signal[stock_rsi<30]=1\n",
    "signal[stock_rsi>70]=-1\n",
    "signal[(stock_rsi<=70)& (stock_rsi>=30)]=0"
   ]
  },
  {
   "cell_type": "code",
   "execution_count": 8,
   "id": "170b5430-83b4-47e4-8ddf-9952c0cad3ff",
   "metadata": {},
   "outputs": [],
   "source": [
    "signal.columns=['signal']"
   ]
  },
  {
   "cell_type": "code",
   "execution_count": 9,
   "id": "bc747451-e840-4d1e-8dcc-2fe29b67ed05",
   "metadata": {},
   "outputs": [
    {
     "data": {
      "text/plain": [
       "28"
      ]
     },
     "execution_count": 9,
     "metadata": {},
     "output_type": "execute_result"
    }
   ],
   "source": [
    "(signal['signal']==-1).sum()"
   ]
  },
  {
   "cell_type": "code",
   "execution_count": 10,
   "id": "4256f242-5b99-4633-9018-0214fd986efb",
   "metadata": {},
   "outputs": [],
   "source": [
    "df=bt.merge(signal,price_data)"
   ]
  },
  {
   "cell_type": "code",
   "execution_count": 11,
   "id": "4d065d37-2b9b-4ec1-9ed6-796b4dad8744",
   "metadata": {},
   "outputs": [],
   "source": [
    "df.columns=['signal','strategy']"
   ]
  },
  {
   "cell_type": "code",
   "execution_count": 12,
   "id": "39f95c9d-84fb-47a1-a1f8-2c0538e6e7b8",
   "metadata": {},
   "outputs": [
    {
     "data": {
      "text/plain": [
       "<Axes: xlabel='Date'>"
      ]
     },
     "execution_count": 12,
     "metadata": {},
     "output_type": "execute_result"
    },
    {
     "data": {
      "image/png": "[encoded data removed]",
      "text/plain": [
       "<Figure size 640x480 with 2 Axes>"
      ]
     },
     "metadata": {},
     "output_type": "display_data"
    }
   ],
   "source": [
    "df.plot(secondary_y=['signal'])"
   ]
  },
  {
   "cell_type": "code",
   "execution_count": 13,
   "id": "3d8d7f76-cbd2-438a-9ba0-518277575750",
   "metadata": {},
   "outputs": [],
   "source": [
    "price_data.columns=['bt_strategy']"
   ]
  },
  {
   "cell_type": "code",
   "execution_count": 14,
   "id": "0a7418e4-278a-4811-8cff-6bb60d1c3683",
   "metadata": {},
   "outputs": [],
   "source": [
    "signal.columns=['bt_strategy']"
   ]
  },
  {
   "cell_type": "code",
   "execution_count": 15,
   "id": "559d7bdc-df9f-4488-a960-d1f4c4df5b96",
   "metadata": {},
   "outputs": [],
   "source": [
    "bt_strategy=bt.Strategy('RSI_MeanReversion',\n",
    "                        [bt.algos.WeighTarget(signal),\n",
    "                         bt.algos.Rebalance()])"
   ]
  },
  {
   "cell_type": "code",
   "execution_count": 16,
   "id": "5ac0a127-2d4d-4b48-84fd-eacb397f8471",
   "metadata": {},
   "outputs": [],
   "source": [
    "bt_backtest=bt.Backtest(bt_strategy,price_data)"
   ]
  },
  {
   "cell_type": "code",
   "execution_count": 17,
   "id": "dbfd256d-a942-4ae1-aba5-19682abd0c54",
   "metadata": {},
   "outputs": [],
   "source": [
    "bt_result=bt.run(bt_backtest)"
   ]
  },
  {
   "cell_type": "code",
   "execution_count": 18,
   "id": "7e74360d-c451-4186-acd5-353356994467",
   "metadata": {},
   "outputs": [
    {
     "data": {
      "text/plain": [
       "<Axes: title={'center': 'Backtest Result'}>"
      ]
     },
     "execution_count": 18,
     "metadata": {},
     "output_type": "execute_result"
    },
    {
     "data": {
      "image/png": "[encoded data removed]",
      "text/plain": [
       "<Figure size 1500x500 with 1 Axes>"
      ]
     },
     "metadata": {},
     "output_type": "display_data"
    }
   ],
   "source": [
    "bt_result.plot(title='Backtest Result')"
   ]
  },
  {
   "cell_type": "code",
   "execution_count": 19,
   "id": "0560b9c5-03c5-44e9-ba06-e494deb37022",
   "metadata": {},
   "outputs": [],
   "source": [
    "resInfo=bt_result.stats"
   ]
  },
  {
   "cell_type": "code",
   "execution_count": 20,
   "id": "011fe24f-4518-4a79-8cf4-4733caf794f6",
   "metadata": {},
   "outputs": [
    {
     "name": "stdout",
     "output_type": "stream",
     "text": [
      "Index(['start', 'end', 'rf', 'total_return', 'cagr', 'max_drawdown', 'calmar',\n",
      "       'mtd', 'three_month', 'six_month', 'ytd', 'one_year', 'three_year',\n",
      "       'five_year', 'ten_year', 'incep', 'daily_sharpe', 'daily_sortino',\n",
      "       'daily_mean', 'daily_vol', 'daily_skew', 'daily_kurt', 'best_day',\n",
      "       'worst_day', 'monthly_sharpe', 'monthly_sortino', 'monthly_mean',\n",
      "       'monthly_vol', 'monthly_skew', 'monthly_kurt', 'best_month',\n",
      "       'worst_month', 'yearly_sharpe', 'yearly_sortino', 'yearly_mean',\n",
      "       'yearly_vol', 'yearly_skew', 'yearly_kurt', 'best_year', 'worst_year',\n",
      "       'avg_drawdown', 'avg_drawdown_days', 'avg_up_month', 'avg_down_month',\n",
      "       'win_year_perc', 'twelve_month_win_perc'],\n",
      "      dtype='object')\n"
     ]
    }
   ],
   "source": [
    "print (resInfo.index)"
   ]
  },
  {
   "cell_type": "code",
   "execution_count": 21,
   "id": "f1806e4c",
   "metadata": {},
   "outputs": [
    {
     "data": {
      "text/plain": [
       "18"
      ]
     },
     "execution_count": 21,
     "metadata": {},
     "output_type": "execute_result"
    }
   ],
   "source": [
    "resInfo.index.get_loc('daily_mean')"
   ]
  },
  {
   "cell_type": "code",
   "execution_count": 22,
   "id": "8c3f5e71",
   "metadata": {},
   "outputs": [
    {
     "name": "stdout",
     "output_type": "stream",
     "text": [
      "Daily return: -0.0704\n"
     ]
    },
    {
     "name": "stderr",
     "output_type": "stream",
     "text": [
      "C:\\Users\\Clari\\AppData\\Local\\Temp\\ipykernel_10044\\1983948169.py:1: FutureWarning: Calling float on a single element Series is deprecated and will raise a TypeError in the future. Use float(ser.iloc[0]) instead\n",
      "  print ('Daily return: %.4f'% float(resInfo.iloc[18]))\n"
     ]
    }
   ],
   "source": [
    "print ('Daily return: %.4f'% float(resInfo.iloc[18]))"
   ]
  },
  {
   "cell_type": "code",
   "execution_count": 23,
   "id": "5b111ebc",
   "metadata": {},
   "outputs": [
    {
     "name": "stdout",
     "output_type": "stream",
     "text": [
      "Sharp ratio daily: -0.29\n"
     ]
    },
    {
     "name": "stderr",
     "output_type": "stream",
     "text": [
      "C:\\Users\\Clari\\AppData\\Local\\Temp\\ipykernel_10044\\3662804259.py:1: FutureWarning: Calling float on a single element Series is deprecated and will raise a TypeError in the future. Use float(ser.iloc[0]) instead\n",
      "  print('Sharp ratio daily: %.2f'% resInfo.loc['daily_sharpe'])\n"
     ]
    }
   ],
   "source": [
    "print('Sharp ratio daily: %.2f'% resInfo.loc['daily_sharpe'])"
   ]
  },
  {
   "cell_type": "code",
   "execution_count": 25,
   "id": "10548e87",
   "metadata": {},
   "outputs": [
    {
     "name": "stdout",
     "output_type": "stream",
     "text": [
      "Sharp ratio monthly: -0.24\n"
     ]
    },
    {
     "name": "stderr",
     "output_type": "stream",
     "text": [
      "C:\\Users\\Clari\\AppData\\Local\\Temp\\ipykernel_10044\\3863799237.py:1: FutureWarning: Calling float on a single element Series is deprecated and will raise a TypeError in the future. Use float(ser.iloc[0]) instead\n",
      "  print('Sharp ratio monthly: %.2f'% resInfo.loc['monthly_sharpe'])\n"
     ]
    }
   ],
   "source": [
    "print('Sharp ratio monthly: %.2f'% resInfo.loc['monthly_sharpe'])"
   ]
  },
  {
   "cell_type": "code",
   "execution_count": 26,
   "id": "aac5f870",
   "metadata": {},
   "outputs": [
    {
     "name": "stdout",
     "output_type": "stream",
     "text": [
      "Sharp ratio yearly: nan\n"
     ]
    },
    {
     "name": "stderr",
     "output_type": "stream",
     "text": [
      "C:\\Users\\Clari\\AppData\\Local\\Temp\\ipykernel_10044\\2994177487.py:1: FutureWarning: Calling float on a single element Series is deprecated and will raise a TypeError in the future. Use float(ser.iloc[0]) instead\n",
      "  print('Sharp ratio yearly: %.2f'% resInfo.loc['yearly_sharpe'])\n"
     ]
    }
   ],
   "source": [
    "print('Sharp ratio yearly: %.2f'% resInfo.loc['yearly_sharpe'])"
   ]
  },
  {
   "cell_type": "code",
   "execution_count": 27,
   "id": "b9d69825",
   "metadata": {},
   "outputs": [],
   "source": [
    "annual_return=resInfo.loc['yearly_mean']"
   ]
  },
  {
   "cell_type": "code",
   "execution_count": 28,
   "id": "14c8df27",
   "metadata": {},
   "outputs": [],
   "source": [
    "volatility=resInfo.loc['yearly_vol']"
   ]
  },
  {
   "cell_type": "code",
   "execution_count": 29,
   "id": "309154f2",
   "metadata": {},
   "outputs": [],
   "source": [
    "sharpe_ratio=annual_return/volatility"
   ]
  },
  {
   "cell_type": "code",
   "execution_count": 33,
   "id": "c84d2901",
   "metadata": {},
   "outputs": [
    {
     "name": "stdout",
     "output_type": "stream",
     "text": [
      "Sharpe ratio annually nan\n"
     ]
    },
    {
     "name": "stderr",
     "output_type": "stream",
     "text": [
      "C:\\Users\\Clari\\AppData\\Local\\Temp\\ipykernel_10044\\4005020271.py:1: FutureWarning: Calling float on a single element Series is deprecated and will raise a TypeError in the future. Use float(ser.iloc[0]) instead\n",
      "  print('Sharpe ratio annually %.2f'% sharpe_ratio)\n"
     ]
    }
   ],
   "source": [
    "print('Sharpe ratio annually %.2f'% sharpe_ratio)"
   ]
  },
  {
   "cell_type": "code",
   "execution_count": 34,
   "id": "0d620a7d",
   "metadata": {},
   "outputs": [
    {
     "name": "stdout",
     "output_type": "stream",
     "text": [
      "Sortino ratio daily:-0.41\n"
     ]
    },
    {
     "name": "stderr",
     "output_type": "stream",
     "text": [
      "C:\\Users\\Clari\\AppData\\Local\\Temp\\ipykernel_10044\\996464746.py:1: FutureWarning: Calling float on a single element Series is deprecated and will raise a TypeError in the future. Use float(ser.iloc[0]) instead\n",
      "  print ('Sortino ratio daily:%.2f'% resInfo.loc['daily_sortino'])\n"
     ]
    }
   ],
   "source": [
    "print ('Sortino ratio daily:%.2f'% resInfo.loc['daily_sortino'])"
   ]
  },
  {
   "cell_type": "code",
   "execution_count": 35,
   "id": "0e835d92",
   "metadata": {},
   "outputs": [
    {
     "name": "stdout",
     "output_type": "stream",
     "text": [
      "Sortino ratio monthly:-0.30\n"
     ]
    },
    {
     "name": "stderr",
     "output_type": "stream",
     "text": [
      "C:\\Users\\Clari\\AppData\\Local\\Temp\\ipykernel_10044\\1578331131.py:1: FutureWarning: Calling float on a single element Series is deprecated and will raise a TypeError in the future. Use float(ser.iloc[0]) instead\n",
      "  print ('Sortino ratio monthly:%.2f'% resInfo.loc['monthly_sortino'])\n"
     ]
    }
   ],
   "source": [
    "print ('Sortino ratio monthly:%.2f'% resInfo.loc['monthly_sortino'])"
   ]
  },
  {
   "cell_type": "code",
   "execution_count": null,
   "id": "da41ef91",
   "metadata": {},
   "outputs": [],
   "source": []
  }
 ],
 "metadata": {
  "kernelspec": {
   "display_name": "Python 3 (ipykernel)",
   "language": "python",
   "name": "python3"
  },
  "language_info": {
   "codemirror_mode": {
    "name": "ipython",
    "version": 3
   },
   "file_extension": ".py",
   "mimetype": "text/x-python",
   "name": "python",
   "nbconvert_exporter": "python",
   "pygments_lexer": "ipython3",
   "version": "3.11.8"
  }
 },
 "nbformat": 4,
 "nbformat_minor": 5
}
